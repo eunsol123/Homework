{
  "nbformat": 4,
  "nbformat_minor": 0,
  "metadata": {
    "colab": {
      "name": "HW 64.ipynb",
      "provenance": [],
      "authorship_tag": "ABX9TyMIarKNMpLWdcpeP0ZD54Y4",
      "include_colab_link": true
    },
    "kernelspec": {
      "name": "python3",
      "display_name": "Python 3"
    },
    "language_info": {
      "name": "python"
    }
  },
  "cells": [
    {
      "cell_type": "markdown",
      "metadata": {
        "id": "view-in-github",
        "colab_type": "text"
      },
      "source": [
        "<a href=\"https://colab.research.google.com/github/eunsol123/Homework/blob/main/HW_64.ipynb\" target=\"_parent\"><img src=\"https://colab.research.google.com/assets/colab-badge.svg\" alt=\"Open In Colab\"/></a>"
      ]
    },
    {
      "cell_type": "markdown",
      "source": [
        "두개의 배열 A와 B를 가지고 있다. 두 배열은 N개의 원소로 구성되어 있으며\n",
        "\n",
        "배열의 원소는 모두 자연수이다. 최대 K번 바꿔치기 연산을 수행할 수 있는데\n",
        "\n",
        "바꿔치기 연산이란 배열 A에 있는 원소 하나와 배열 B에 있는 원소 하나를 골라서\n",
        "\n",
        "두 원소를 서로 바꾸는 것을 말한다. \n",
        "\n",
        "최종목표는 배열 A의 모든 원소의 합이 최대가 되도록 하는 것이다.\n",
        "\n",
        "• 첫 번째 줄에서 N, K가 공백으로 구분되어 입력된다.\n",
        "\n",
        "• 두 번째 줄부터 각 열마다 배열 들의 원소들이 공백으로 구분되어 입력된다. \n",
        "\n",
        "• 세 번째 줄에 배열 B의 원소들이 공백으로 구분되어 입력된다. \n",
        "\n",
        "최대 K번 바꿔치기 연산을 수행하여 만들 수 있는 배열 A의 모든 원소의 합의\n",
        "최댓값을 출력한다."
      ],
      "metadata": {
        "id": "PrXEwDIz-3Wg"
      }
    },
    {
      "cell_type": "code",
      "source": [
        "# N과 K를 입력 받기\n",
        "n, k = map(int, input().split()) \n",
        "# 배열 A의 모든 원소를 입력받기\n",
        "a = list(map(int, input().split())) \n",
        "# 배열 B의 모든 원소를 입력받기\n",
        "b = list(map(int, input().split())) \n",
        "# 배열 A는 오름차순 정렬\n",
        "a.sort() \n",
        "# 배열 B는 내림차순 정렬\n",
        "b.sort(reverse=True) \n",
        "# 첫 번째 인덱스부터 확인하며, 두 배열의 원소를 최대 K번 비교\n",
        "for i in range(k):\n",
        "# A의 원소가 B의 원소보다 작은 경우\n",
        "  if a[i] < b[i]:\n",
        "# 두 원소를 교체\n",
        "    a[i], b[i] = b[i], a[i]\n",
        "# A의 원소가 B의 원소보다 크거나 같을 때\n",
        "  else: \n",
        "# 반복문을 탈출\n",
        "    break\n",
        "# 배열 A의 모든 원소의 합을 출력\n",
        "print(sum(a)) "
      ],
      "metadata": {
        "colab": {
          "base_uri": "https://localhost:8080/"
        },
        "id": "ty6wOvQ__S0O",
        "outputId": "23334bca-012f-4c97-bb61-425d9566a659"
      },
      "execution_count": 1,
      "outputs": [
        {
          "output_type": "stream",
          "name": "stdout",
          "text": [
            "5 3\n",
            "1 2 5 4 3\n",
            "5 5 6 6 5\n",
            "26\n"
          ]
        }
      ]
    }
  ]
}