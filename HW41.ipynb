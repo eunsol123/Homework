{
  "nbformat": 4,
  "nbformat_minor": 0,
  "metadata": {
    "colab": {
      "name": "HW41.ipynb",
      "provenance": [],
      "authorship_tag": "ABX9TyNbernsYqG1ZPaOczSdON5A",
      "include_colab_link": true
    },
    "kernelspec": {
      "name": "python3",
      "display_name": "Python 3"
    },
    "language_info": {
      "name": "python"
    }
  },
  "cells": [
    {
      "cell_type": "markdown",
      "metadata": {
        "id": "view-in-github",
        "colab_type": "text"
      },
      "source": [
        "<a href=\"https://colab.research.google.com/github/eunsol123/Homework/blob/main/HW41.ipynb\" target=\"_parent\"><img src=\"https://colab.research.google.com/assets/colab-badge.svg\" alt=\"Open In Colab\"/></a>"
      ]
    },
    {
      "cell_type": "code",
      "execution_count": 1,
      "metadata": {
        "colab": {
          "base_uri": "https://localhost:8080/"
        },
        "id": "5yAqfbIOaGVh",
        "outputId": "051dc8fa-70c8-4dc9-80d7-85e4f797a5de"
      },
      "outputs": [
        {
          "output_type": "stream",
          "name": "stdout",
          "text": [
            "5\n",
            "R R R U D D\n",
            "3 4\n"
          ]
        }
      ],
      "source": [
        "# 여행가 A는 N * N 크기의 정사각형 공간위에 서 있다. 이 공간은 1 * 1 크기의 정사각형으로 나누어져 있다.\n",
        "# 가정 왼쪽 위 좌표는 (1,1)이며, 가장 오른쪽 아래 좌표는 (N,N)에 해당한다.\n",
        "# 여행가 A는 상,하,좌,우 방향으로 이동할 수 있으며,시작 좌표는 항상 (1,1)이다.\n",
        "# 우리 앞에는 여행가 A가 이동할 계획이 적힌 계획서가 놓여 있다. \n",
        "# 계획서에는 하나의 줄에 띄어쓰기를 기준으로 하여 L,R,U,D 중 하나의 문자가 반복적으로 적혀 있다.\n",
        "# 각 문자의 의미는 다음과 같다. \n",
        " \n",
        "# L : 왼쪽으로 한 칸 이동 \n",
        "# R : 오른쪽으로 한 칸 이동\n",
        "# U : 위로 한 칸 이동 \n",
        "# D : 아래로 한 칸 이동\n",
        " \n",
        "# 이 때 여행가 A가 N*N 크기의 정사각형 공간을 벗어나는 움직임은 무시된다.\n",
        "# 예를 들어, (1,1)의 위치에서 L혹은 U를 만나면 무시된다.\n",
        "  \n",
        "# 입력 조건 : 첫째 줄에 공간의 크기를 나타내는 N이 주어진다(1<=N <=100)\n",
        "# 둘째 줄에 여행가 A가 이동할 계획서 내용이 주어진다 (1<=이동횟수<=100)\n",
        "\n",
        "# 출력 조건 : 첫째 줄에 여행가 A가 최종적으로 도착할 지점의 좌표(X,Y)를 공백으로 구분하여 출력한다.\n",
        "\n",
        "#################################################################################################################################################################################################\n",
        "\n",
        "# N값 입력 받기\n",
        "n = int(input())\n",
        "# 공백을 통해 여행가 A가 이동할 계획서 내용을 입력 받기\n",
        "direction = input().split() # R R R U D D\n",
        "\n",
        "# 시작 좌표 (1,1)\n",
        "x, y = 1, 1\n",
        "# 반복문내에서 계획서에 적혀있는 문자를 차례로 비교하여 수행하기 위하여 선언\n",
        "move = ['L', 'R', 'U', 'D'] \n",
        "\n",
        "#'L', 'R', 'U', 'D' 의 각 방향별로 이동될 거리\n",
        "gox = [0, 0, -1, 1] # X좌표\n",
        "goy = [-1, 1, 0, 0] # Y좌표\n",
        "\n",
        "# 계획서에 적혀있는 문자와 방향 변수를 차례로 비교하여 해당 문자가 같다면 해당 위치에서 x와 y값을 특정 이동 거리만큼 누적\n",
        "for i in direction :\n",
        "  for j in range(len(move)) :\n",
        "    if i == move[j] :\n",
        "      result_x = x + gox[j]\n",
        "      result_y = y + goy[j]\n",
        "\n",
        "# 공간을 벗어나지 않을 때만 x, y 변수에 각각 현재 위치를 할당\n",
        "  if result_x < 1 or result_y < 1 or result_x > n or result_y > n :\n",
        "    continue\n",
        "\n",
        "  x = result_x\n",
        "  y = result_y\n",
        "\n",
        "# 출력\n",
        "print(x, y)\n",
        "\n",
        "#################################################################################################################################################################################################\n",
        "\n",
        "# N을 입력받은 후 공백을 통해 여행가 A가 이동할 계획서 내용을 입력받는다. 또한 문제에서 시작좌표는 항상 (1, 1)이기 때문에 변수 x, y에 각 1을 담는다.\n",
        "\n",
        "# move 변수는 반복문내에서 계획서에 적혀있는 문자를 차례로 비교하여 수행하기 위한 용도로 사용될 것이기 때문에 선언해준다.\n",
        "\n",
        "# gox와 goy는 'L', 'R', 'U', 'D' 의 각 방향별로 이동될 거리이다.\n",
        "\n",
        "# 반복문 내에서는 계획서에 적혀있는 문자와 방향 변수를 차례로 비교하여 해당 문자가 같다면 해당 위치에서 x와 y값을 특정 이동 거리만큼 누적해간다.\n",
        "\n",
        "# 또한, 문제에서 주어진 조건은 여행가 A가 N x N 크기의 정사각형 공간을 벗어나는 움직임은 무시된다고 했기 때문에 조건문을 통해 공간을 벗어나지 않을 때만 x, y 변수에 각각 현재 위치를 할당한다.\n",
        "\n",
        "# x와 y를 출력하여 도착할 지점의 좌표를 출력한다.\n",
        " \n"
      ]
    }
  ]
}